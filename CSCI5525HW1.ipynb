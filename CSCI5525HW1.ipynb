{
  "nbformat": 4,
  "nbformat_minor": 0,
  "metadata": {
    "colab": {
      "name": "CSCI5525HW1.ipynb",
      "provenance": [],
      "collapsed_sections": [
        "OqRI5c4vM3Dj",
        "pewIo2Y1lzvf"
      ],
      "toc_visible": true,
      "authorship_tag": "ABX9TyOjwpJlLcHm8cEP0zH2lQcd",
      "include_colab_link": true
    },
    "kernelspec": {
      "name": "python3",
      "display_name": "Python 3"
    },
    "language_info": {
      "name": "python"
    }
  },
  "cells": [
    {
      "cell_type": "markdown",
      "metadata": {
        "id": "view-in-github",
        "colab_type": "text"
      },
      "source": [
        "<a href=\"https://colab.research.google.com/github/TonyLiu836/CSCI5525-MachineLearning/blob/main/CSCI5525HW1.ipynb\" target=\"_parent\"><img src=\"https://colab.research.google.com/assets/colab-badge.svg\" alt=\"Open In Colab\"/></a>"
      ]
    },
    {
      "cell_type": "markdown",
      "source": [
        "#CSCI5525 HW 1\n",
        "Tony Liu - ID: 5383942"
      ],
      "metadata": {
        "id": "6nyGyljKlWTh"
      }
    },
    {
      "cell_type": "code",
      "execution_count": 2,
      "metadata": {
        "colab": {
          "base_uri": "https://localhost:8080/"
        },
        "id": "nyGXGnjGlTcT",
        "outputId": "91c467b9-8c3a-4248-8616-67ef70252a9f"
      },
      "outputs": [
        {
          "output_type": "stream",
          "name": "stdout",
          "text": [
            "Mounted at drive\n"
          ]
        }
      ],
      "source": [
        "from google.colab import drive\n",
        "drive.mount('drive')\n"
      ]
    },
    {
      "cell_type": "code",
      "source": [
        "import numpy as np\n",
        "import matplotlib.pyplot as plt\n",
        "from sklearn import datasets \n",
        "import math\n",
        "\n",
        "\n",
        "boston_data_path = \"/content/drive/MyDrive/Grad School/Spring2022/CSCI5525 ML/HW1/boston.csv\"       #change path for boston data   \n"
      ],
      "metadata": {
        "id": "M2WogBR5L16O"
      },
      "execution_count": 3,
      "outputs": []
    },
    {
      "cell_type": "code",
      "source": [
        "\n",
        "def getBostonDataset(tau):\n",
        "    boston = np.loadtxt(open(boston_data_path, \"rb\"), delimiter=\",\", skiprows=1)\n",
        "    boston = np.asarray(boston)\n",
        "    #X = boston[:,:-1]\n",
        "    y = boston[:,-1:]\n",
        "\n",
        "    boundary_value = np.percentile(y, tau)\n",
        "\n",
        "    for i in range(len(y)):\n",
        "        if y[i] >= boundary_value:\n",
        "            boston[i][-1] = 1\n",
        "        else:\n",
        "            boston[i][-1] = 0\n",
        "    #return X, y\n",
        "    return boston\n",
        "\n",
        "def getDigitsDataset():\n",
        "    digits = np.loadtxt(open(\"/content/drive/MyDrive/Grad School/Spring2022/CSCI5525 ML/HW1/digits.csv\"), delimiter=\",\", skiprows=1)\n",
        "    #data = datasets.load_digits()\n",
        "    return digits\n",
        "\n",
        "\n",
        "def chooseDataset(dataset):\n",
        "    if dataset == \"Boston50\":\n",
        "        boston50 = getBostonDataset(50)\n",
        "        return boston50\n",
        "\n",
        "    elif dataset == \"Boston75\":\n",
        "        boston75= getBostonDataset(75)\n",
        "        return boston75\n",
        "\n",
        "    else:\n",
        "        digits = getDigitsDataset()\n",
        "        return digits\n",
        "\n"
      ],
      "metadata": {
        "id": "U20sjL1YmEjG"
      },
      "execution_count": 4,
      "outputs": []
    },
    {
      "cell_type": "markdown",
      "source": [
        "# LDA1dThres"
      ],
      "metadata": {
        "id": "hvH6TaH4J1XD"
      }
    },
    {
      "cell_type": "code",
      "source": [
        "from random import randrange\n",
        "\n",
        "#split data into 10-folds\n",
        "def crossValSplit(dataset, folds = 10):\n",
        "    fold_size = int(len(dataset) / folds)\n",
        "    split_dataset = []\n",
        "    dataset_copy = dataset\n",
        "    for i in range(folds):\n",
        "        each_fold = []\n",
        "        while len(each_fold) < fold_size:\n",
        "            randSample = randrange(len(dataset_copy[0]))\n",
        "\n",
        "            each_fold.append(dataset_copy[randSample])\n",
        "            np.delete(dataset_copy,randSample)\n",
        "        split_dataset.append(each_fold)\n",
        "    \n",
        "    return split_dataset \n",
        "\n",
        "#seperate samples into classes based on their labels\n",
        "def seperateData(data, labels):\n",
        "    class1 = []       #y=1 class\n",
        "    class0 = []       #y=0 class\n",
        "    for i in range(np.shape(data)[0]):\n",
        "\n",
        "        if labels[i] == 1:\n",
        "            class1.append(data[i])\n",
        "        else:\n",
        "            class0.append(data[i])\n",
        "    return class0, class1\n",
        "\n",
        "def calcMeans(class0, class1):\n",
        "    #print(np.shape(class0))\n",
        "    class1Mean = np.mean(class1, axis = 0)      #mean of features in each class\n",
        "    class0Mean = np.mean(class0, axis = 0)      \n",
        "    return class0Mean, class1Mean\n",
        "\n",
        "#finds the between-class scatter and within-class scatter \n",
        "def calcCovariances(class0, class1, class0Mean, class1Mean):\n",
        "    diffMeans = np.asarray(class1Mean - class0Mean)\n",
        "    SB = np.matmul(np.transpose([diffMeans]), [diffMeans])\n",
        "    length = len(class0[0])\n",
        "    sum0 = 0\n",
        "    sum1 = 0\n",
        "    for n in range(len(class0Mean)):\n",
        "        temp0 = class0[n] - class0Mean\n",
        "        sum0 += np.matmul(np.transpose([temp0]), [temp0])\n",
        "\n",
        "    for n in range(len(class1Mean)):  \n",
        "        temp1 = class1[n] - class1Mean\n",
        "        sum1 += np.matmul(np.transpose([temp1]), [temp1])\n",
        "\n",
        "    SW = sum0 + sum1\n",
        "\n",
        "    return SB, SW\n",
        "\n",
        "\n",
        "# projects samples by multiplying W.T and each sample \n",
        "def projectPoints(W, data):\n",
        "    #projectedPts = []\n",
        "    #print(np.shape(data))\n",
        "    #print(np.shape([W]))\n",
        "    projectedPts = data @ np.transpose(W)\n",
        "\n",
        "    return projectedPts\n",
        "\n",
        "# takes in samples of both classes and then finds the best boundary to classify samples\n",
        "def calcBoundary(class0, class1):\n",
        "    class0Mean,class1Mean = calcMeans(class0, class1)\n",
        "    SB,SW = calcCovariances(class0,class1, class0Mean, class1Mean)\n",
        "    eigVal, eigVect = np.linalg.eig(np.matmul(np.linalg.pinv(SW),SB))\n",
        "    largestEigValInd = np.where(eigVal == max(eigVal))\n",
        "    W = eigVect[largestEigValInd][0]\n",
        "\n",
        "    projPtsC0 = projectPoints(W, class0)\n",
        "    projPtsC1 = projectPoints(W, class1)\n",
        "    \n",
        "\n",
        "    ## need to modify this along with Predict function to use Bayes' \n",
        "    projC0Mean, projC1Mean = calcMeans(projPtsC0, projPtsC1)\n",
        "\n",
        "    mid = np.add(projC0Mean, projC1Mean) / 2\n",
        "\n",
        "    if projC0Mean < mid:      #class 0 has lower mean \n",
        "        return mid, W, 0, 1\n",
        "    else:\n",
        "        return mid, W, 1, 0\n",
        "\n",
        "\n",
        "\n",
        "##### need to change this to use Bayes' \n",
        "def predict(data, W, boundary, lowerClass, higherClass, label):\n",
        "    y_hat = []\n",
        "    proj = projectPoints(W, data)\n",
        "    projplot=plot(proj, label)\n",
        "    for i in range(len(proj)):\n",
        "        if proj[i] > boundary:\n",
        "            y_hat.append(higherClass)\n",
        "        else:\n",
        "          y_hat.append(lowerClass)\n",
        "    return y_hat\n",
        "        #proj = np.matmul( ,data[i])\n",
        "\n",
        "def errorAndStdDev(prediction, gndTruth):\n",
        "    counter = 0\n",
        "    temp = 0\n",
        "    gndTruthMean = sum(gndTruth) / len(gndTruth)\n",
        "    for i in range(len(prediction)):\n",
        "        if prediction[i] != gndTruth[i]:\n",
        "            counter += 1\n",
        "    \n",
        "    error = counter / len(prediction) * 100\n",
        "    \n",
        "    mean = np.mean(gndTruth)\n",
        "    for i in range(len(prediction)):\n",
        "        temp += (prediction[i] - mean)**2\n",
        "    #math.sqrt(sumTotal/len(predictions))/math.sqrt(len(t))\n",
        "    stdDev = np.sqrt(temp/len(gndTruth)) / np.sqrt(len(prediction)) *100 \n",
        "    return error, stdDev\n",
        "\n",
        "def LDA1dThres(filename, num_crossval):#, prior):\n",
        "    split_data = crossValSplit(filename)\n",
        "    \n",
        "    globalError = 0\n",
        "    globalStdDev = 0\n",
        "\n",
        "    fold_error = []\n",
        "    fold_stddev = []\n",
        "    for i in range(len(split_data)):\n",
        "        #print(len(split_data[i]))\n",
        "        test_data = np.copy(split_data[i])\n",
        "        test_labels = test_data[:,-1]\n",
        "        test_data = test_data[:,:-1]\n",
        "        #print(\"test_data\", np.shape(test_data))\n",
        "        #print(split_data[i] - test_data)\n",
        "        #print(\"split data\", np.shape(split_data))\n",
        "        train_data_folds = np.delete(np.copy(split_data),i,0)\n",
        "        folds, samples, features = np.shape(train_data_folds)\n",
        "        train_data = np.reshape(train_data_folds, (folds * samples, features))\n",
        "        \n",
        "        train_labels = train_data[:,-1]\n",
        "        #print(\"train_labels\", np.shape(train_labels))\n",
        "        train_data = train_data[:,:-1]\n",
        "        #train_labels = train_data[:,-1]\n",
        "        #train_data = train_data[:,:-1]\n",
        "        #print(\"train_data= \",np.shape(train_data))\n",
        "        class0, class1 = seperateData(train_data, train_labels)\n",
        "        boundary, W, lowerClass, higherClass = calcBoundary(class0, class1)\n",
        "        trainPred = predict(train_data, W, boundary, lowerClass, higherClass, train_labels)\n",
        "        trainError, trainStdDev = errorAndStdDev(trainPred, train_labels)\n",
        "\n",
        "        prediction = predict(test_data, W, boundary, lowerClass, higherClass, test_labels)\n",
        "        error, stdDev= errorAndStdDev(prediction, test_labels)\n",
        "        #fold_error.append(error)\n",
        "        #fold_stddev.append(stdDev)\n",
        "        globalStdDev += stdDev\n",
        "        globalError += error\n",
        "        print(\"Fold= \", i, \"  Train error= \", trainError, \"%  Train std dev= \", trainStdDev, \"  Test Error\", error, \"%  Test std dev= \", stdDev)\n",
        "        #print(\"Test error for fold, \", i, \" = \", error)\n",
        "        #print(\"Test standard deviation for fold, \", i, \" = \", stdDev)\n",
        "    \n",
        "    \n",
        "    print(\"Avg Error = \", globalError / num_crossval, \"%\")\n",
        "    print(\"Avg Standard Deviation = \", globalStdDev / num_crossval)\n",
        "\n",
        "#dataset, prior = chooseDataset(\"Boston50\")\n",
        "#print(\"dataset=\", dataset)\n",
        "dataset= chooseDataset(\"Boston50\")\n",
        "LDA1dThres(dataset, 10)#, prior)\n"
      ],
      "metadata": {
        "colab": {
          "base_uri": "https://localhost:8080/",
          "height": 1000
        },
        "id": "E_H5mfK16iOt",
        "outputId": "39e0f3ed-af96-4083-c037-05d5fe13b0dd"
      },
      "execution_count": 71,
      "outputs": [
        {
          "output_type": "stream",
          "name": "stderr",
          "text": [
            "/usr/local/lib/python3.7/dist-packages/matplotlib/collections.py:153: ComplexWarning: Casting complex values to real discards the imaginary part\n",
            "  offsets = np.asanyarray(offsets, float)\n"
          ]
        },
        {
          "output_type": "stream",
          "name": "stdout",
          "text": [
            "Fold=  0   Train error=  12.666666666666668 %  Train std dev=  2.411085509336678   Test Error 12.0 %  Test std dev=  7.183313998427191\n",
            "Fold=  1   Train error=  26.0 %  Train std dev=  2.437340969452519   Test Error 32.0 %  Test std dev=  7.0710678118654755\n",
            "Fold=  2   Train error=  21.777777777777775 %  Train std dev=  2.454524670486063   Test Error 20.0 %  Test std dev=  7.424284477308231\n",
            "Fold=  3   Train error=  33.77777777777778 %  Train std dev=  2.3873466167091757   Test Error 42.0 %  Test std dev=  7.071067811865472\n",
            "Fold=  4   Train error=  15.11111111111111 %  Train std dev=  2.431616170707479   Test Error 8.0 %  Test std dev=  6.957010852370436\n",
            "Fold=  5   Train error=  14.000000000000002 %  Train std dev=  2.4133374258201385   Test Error 18.0 %  Test std dev=  7.429670248402682\n",
            "Fold=  6   Train error=  6.0 %  Train std dev=  2.373562665204263   Test Error 10.0 %  Test std dev=  7.2055534138607245\n",
            "Fold=  7   Train error=  27.77777777777778 %  Train std dev=  2.348837379862006   Test Error 24.0 %  Test std dev=  7.04840407468244\n",
            "Fold=  8   Train error=  29.555555555555557 %  Train std dev=  2.4124278136566697   Test Error 30.0 %  Test std dev=  7.188880302244574\n",
            "Fold=  9   Train error=  17.555555555555554 %  Train std dev=  2.375942524695918   Test Error 18.0 %  Test std dev=  7.429670248402682\n",
            "Avg Error =  21.4 %\n",
            "Avg Standard Deviation =  7.20089232394299\n"
          ]
        },
        {
          "output_type": "display_data",
          "data": {
            "image/png": "[encoded data removed]",
            "text/plain": [
              "<Figure size 432x288 with 1 Axes>"
            ]
          },
          "metadata": {
            "needs_background": "light"
          }
        },
        {
          "output_type": "display_data",
          "data": {
            "image/png": "[encoded data removed]",
            "text/plain": [
              "<Figure size 432x288 with 1 Axes>"
            ]
          },
          "metadata": {
            "needs_background": "light"
          }
        },
        {
          "output_type": "display_data",
          "data": {
            "image/png": "[encoded data removed]",
            "text/plain": [
              "<Figure size 432x288 with 1 Axes>"
            ]
          },
          "metadata": {
            "needs_background": "light"
          }
        },
        {
          "output_type": "display_data",
          "data": {
            "image/png": "[encoded data removed]",
            "text/plain": [
              "<Figure size 432x288 with 1 Axes>"
            ]
          },
          "metadata": {
            "needs_background": "light"
          }
        },
        {
          "output_type": "display_data",
          "data": {
            "image/png": "[encoded data removed]",
            "text/plain": [
              "<Figure size 432x288 with 1 Axes>"
            ]
          },
          "metadata": {
            "needs_background": "light"
          }
        },
        {
          "output_type": "display_data",
          "data": {
            "image/png": "[encoded data removed]",
            "text/plain": [
              "<Figure size 432x288 with 1 Axes>"
            ]
          },
          "metadata": {
            "needs_background": "light"
          }
        },
        {
          "output_type": "display_data",
          "data": {
            "image/png": "[encoded data removed]",
            "text/plain": [
              "<Figure size 432x288 with 1 Axes>"
            ]
          },
          "metadata": {
            "needs_background": "light"
          }
        },
        {
          "output_type": "display_data",
          "data": {
            "image/png": "[encoded data removed]",
            "text/plain": [
              "<Figure size 432x288 with 1 Axes>"
            ]
          },
          "metadata": {
            "needs_background": "light"
          }
        },
        {
          "output_type": "display_data",
          "data": {
            "image/png": "[encoded data removed]",
            "text/plain": [
              "<Figure size 432x288 with 1 Axes>"
            ]
          },
          "metadata": {
            "needs_background": "light"
          }
        },
        {
          "output_type": "display_data",
          "data": {
            "image/png": "[encoded data removed]",
            "text/plain": [
              "<Figure size 432x288 with 1 Axes>"
            ]
          },
          "metadata": {
            "needs_background": "light"
          }
        },
        {
          "output_type": "display_data",
          "data": {
            "image/png": "[encoded data removed]",
            "text/plain": [
              "<Figure size 432x288 with 1 Axes>"
            ]
          },
          "metadata": {
            "needs_background": "light"
          }
        },
        {
          "output_type": "display_data",
          "data": {
            "image/png": "[encoded data removed]",
            "text/plain": [
              "<Figure size 432x288 with 1 Axes>"
            ]
          },
          "metadata": {
            "needs_background": "light"
          }
        },
        {
          "output_type": "display_data",
          "data": {
            "image/png": "[encoded data removed]",
            "text/plain": [
              "<Figure size 432x288 with 1 Axes>"
            ]
          },
          "metadata": {
            "needs_background": "light"
          }
        },
        {
          "output_type": "display_data",
          "data": {
            "image/png": "[encoded data removed]",
            "text/plain": [
              "<Figure size 432x288 with 1 Axes>"
            ]
          },
          "metadata": {
            "needs_background": "light"
          }
        },
        {
          "output_type": "display_data",
          "data": {
            "image/png": "[encoded data removed]",
            "text/plain": [
              "<Figure size 432x288 with 1 Axes>"
            ]
          },
          "metadata": {
            "needs_background": "light"
          }
        },
        {
          "output_type": "display_data",
          "data": {
            "image/png": "[encoded data removed]",
            "text/plain": [
              "<Figure size 432x288 with 1 Axes>"
            ]
          },
          "metadata": {
            "needs_background": "light"
          }
        },
        {
          "output_type": "display_data",
          "data": {
            "image/png": "[encoded data removed]",
            "text/plain": [
              "<Figure size 432x288 with 1 Axes>"
            ]
          },
          "metadata": {
            "needs_background": "light"
          }
        },
        {
          "output_type": "display_data",
          "data": {
            "image/png": "[encoded data removed]",
            "text/plain": [
              "<Figure size 432x288 with 1 Axes>"
            ]
          },
          "metadata": {
            "needs_background": "light"
          }
        },
        {
          "output_type": "display_data",
          "data": {
            "image/png": "[encoded data removed]",
            "text/plain": [
              "<Figure size 432x288 with 1 Axes>"
            ]
          },
          "metadata": {
            "needs_background": "light"
          }
        },
        {
          "output_type": "display_data",
          "data": {
            "image/png": "[encoded data removed]",
            "text/plain": [
              "<Figure size 432x288 with 1 Axes>"
            ]
          },
          "metadata": {
            "needs_background": "light"
          }
        }
      ]
    },
    {
      "cell_type": "code",
      "source": [
        "#\n",
        "'''\n",
        "class0Mean,class1Mean = calcMeans(class0, class1)\n",
        "SB,SW = calcCovariances(class0,class1, class0Mean, class1Mean)\n",
        "eigVal, eigVect = np.linalg.eig(np.matmul(np.linalg.pinv(SW),SB))\n",
        "largestEigValInd = np.where(eigVal == max(eigVal))\n",
        "W = eigVect[largestEigValInd][0]\n",
        "\n",
        "projPtsC0 = projectPoints(W, class0)\n",
        "projPtsC1 = projectPoints(W, class1)\n",
        "\n",
        "projC0Mean, projC1Mean = calcMeans(projPtsC0, projPtsC1)\n",
        "\n",
        "mid = np.add(projC0Mean, projC1Mean) / 2\n",
        "\n",
        "if projC0Mean < mid:      #class 0 has lower mean \n",
        "    return \n",
        "else:\n",
        "'''\n",
        "boston50 = chooseDataset(\"Boston50\")\n",
        "#print(boston50)\n",
        "split_dataset = crossValSplit(boston50)\n",
        "print(split_dataset)\n",
        "#print(len(split_dataset[9]))"
      ],
      "metadata": {
        "id": "3l0oh6N251Zu"
      },
      "execution_count": null,
      "outputs": []
    },
    {
      "cell_type": "markdown",
      "source": [
        "# LDA2dGaussGM"
      ],
      "metadata": {
        "id": "OqRI5c4vM3Dj"
      }
    },
    {
      "cell_type": "code",
      "source": [
        "from random import randrange\n",
        "\n",
        "\n",
        "#split data into 10-folds\n",
        "def crossValSplit(dataset, folds = 10):\n",
        "    fold_size = int(len(dataset) / folds)\n",
        "    split_dataset = []\n",
        "    dataset_copy = dataset\n",
        "    for i in range(folds):\n",
        "        each_fold = []\n",
        "        while len(each_fold) < fold_size:\n",
        "            randSample = randrange(len(dataset_copy[0]))\n",
        "            each_fold.append(dataset_copy[randSample])\n",
        "            np.delete(dataset_copy,randSample)\n",
        "        split_dataset.append(each_fold)\n",
        "    \n",
        "    return split_dataset \n",
        "\n",
        "#seperate samples into classes based on their labels\n",
        "def seperateData(data, labels):\n",
        "    data_dict = {0:[],              #use dictionary to store samples of different classes\n",
        "                1:[],\n",
        "                2:[],\n",
        "                3:[],\n",
        "                4:[],\n",
        "                5:[],\n",
        "                6:[],\n",
        "                7:[],\n",
        "                8:[],\n",
        "                9:[]}\n",
        "\n",
        "    for i in range(len(data)):\n",
        "        data_dict[labels[i]].append(data[i,:])\n",
        "    return data_dict\n",
        "\n",
        "def calcMeans(data_dict):\n",
        "    class_means = []                       #list of means of features for samples of each class\n",
        "    for value in data_dict.values():\n",
        "        mean = np.mean(value, axis = 0)\n",
        "        class_means.append(mean) \n",
        "    temp = sum(class_means)                              #find overall mean \n",
        "    overall_mean = (1/len(class_means)) * temp\n",
        "\n",
        "    return class_means, overall_mean\n",
        "\n",
        "\n",
        "#finds the between-class scatter and within-class scatter\n",
        "def calcCovariances(data_dict, class_means, overall_mean):\n",
        "    num_classes = len(class_means)\n",
        "\n",
        "    Si = []\n",
        "    counter1 = 0\n",
        "    for key, value in data_dict.items():\n",
        "        for i in range(len(value)):\n",
        "            diff = value[i] - class_means[key]\n",
        "            counter1 += np.matmul(np.transpose([diff]), [diff])\n",
        "        Si.append(counter1)\n",
        "\n",
        "    SW = sum(Si)                        #within class scatter\n",
        "\n",
        "    SB = 0                              #between class scatter\n",
        "    for i in range(num_classes):\n",
        "        diffMeans = class_means[i] - overall_mean\n",
        "        SB += len(data_dict[i]) * np.matmul(np.transpose([diffMeans]), [diffMeans])\n",
        "    \n",
        "    return SB, SW\n",
        "\n",
        "# projects samples by multiplying W.T and each sample \n",
        "def projectData(W, data):\n",
        "    projectedData = []\n",
        "    for i in range(len(data)):\n",
        "        projectedData.append(data[i] @ np.transpose(W))\n",
        "    return projectedData\n",
        "\n",
        "\n",
        "def findGaussParams(train_data, labels ,W):\n",
        "    means = {}\n",
        "    covs = {}\n",
        "    priors = {}\n",
        "\n",
        "    data_dict = seperateData(train_data, labels)\n",
        "    samples = len(train_data)\n",
        "    for key, value in data_dict.items():\n",
        "        \n",
        "        projection = projectData(W, value)\n",
        "        means[key] = np.mean(projection, axis = 0)\n",
        "        covs[key] = np.cov(projection, rowvar = False)\n",
        "        priors[key] = len(data_dict[key])/samples\n",
        "    return means,covs,priors\n",
        "\n",
        "\n",
        "def Gaussian(u, sigma, sample):\n",
        "    d = len(sample)\n",
        "    #smallVals = 1e-15*np.eye(np.shape(sigma)[0])\n",
        "    #sigma = sigma + smallVals\n",
        "    temp1 = (2*math.pi)**(d/2) * (np.linalg.det(sigma)**(1/2))\n",
        "    temp2 = (-1/2) * (sample-u) @ np.linalg.inv(sigma) @ np.transpose([sample-u])\n",
        "    gauss = (1/temp1) * np.exp(temp2)\n",
        "    return gauss\n",
        "\n",
        "\n",
        "# takes in samples of both classes and then finds the best boundary to classify samples\n",
        "def train(train_data, labels, test_data):\n",
        "\n",
        "    data_dict = seperateData(train_data, labels)\n",
        "    class_means, overall_mean = calcMeans(data_dict)\n",
        "    SB,SW = calcCovariances(data_dict, class_means, overall_mean)\n",
        "    eigVal, eigVect = np.linalg.eig(np.matmul(np.linalg.pinv(SW), SB))\n",
        "\n",
        "    idx = eigVal.argsort()[::-1]\n",
        "    k=2\n",
        "    idx = eigVal.argsort()[-k:][::-1]\n",
        "    W = eigVect[idx]\n",
        "   \n",
        "    u, sigma, priors = findGaussParams(train_data, labels, W)\n",
        "    return W,u,sigma,priors \n",
        "\n",
        "def predict(data,W,u,sigma,priors):\n",
        "    y_hat = []\n",
        "    proj = projectData(W, data)\n",
        "    for sample in proj:\n",
        "        probs = []\n",
        "        for c in range(len(sigma)):        #for each class, find gaussian and multiply w prior\n",
        "            gauss = Gaussian(u[c], sigma[c], sample)\n",
        "\n",
        "            prob = priors[c] * gauss\n",
        "            probs.append(prob)\n",
        "        \n",
        "        y_hat.append(probs)\n",
        "    predictions = np.argmax(y_hat, axis=1)\n",
        "    \n",
        "    return predictions\n",
        "\n",
        "def errorAndStdDev(y_hat, gndTruth):\n",
        "    counter = 0\n",
        "    temp = 0\n",
        "    gndTruthMean = sum(gndTruth) / len(gndTruth)\n",
        "    for i in range(len(y_hat)):\n",
        "        if y_hat[i] != gndTruth[i]:\n",
        "            counter += 1\n",
        "    \n",
        "    error = counter / len(y_hat)\n",
        "    \n",
        "    for i in range(len(gndTruth)):\n",
        "        temp +=  (y_hat[i] - gndTruthMean)**2\n",
        "    stdDev = np.sqrt(temp/len(gndTruth))\n",
        "    return error, stdDev\n",
        "\n",
        "\n",
        "def LDA2dGaussGM(filename, num_crossval):\n",
        "    split_data = crossValSplit(filename)\n",
        "    \n",
        "    globalError = 0\n",
        "    globalStdDev = 0\n",
        "\n",
        "    fold_error = []\n",
        "    fold_stddev = []\n",
        "    for i in range(len(split_data)):\n",
        "        test_data = np.copy(split_data[i])\n",
        "        test_data_labels = test_data[:,-1]\n",
        "        test_data = test_data[:,:-1]\n",
        "        \n",
        "        train_data_folds = np.delete(np.copy(split_data),i,0)\n",
        "        folds, samples, features = np.shape(train_data_folds)\n",
        "        train_data = np.reshape(train_data_folds, (folds * samples, features))\n",
        "        train_data_labels = train_data[:,-1]\n",
        "        train_data = train_data[:,:-1]\n",
        "        \n",
        "        W,u,sigma,priors = train(train_data, train_data_labels, test_data)\n",
        "        \n",
        "        trainPred = predict(train_data,W,u,sigma,priors)\n",
        "        trainError, trainStdDev = errorAndStdDev(trainPred, train_data_labels)\n",
        "        \n",
        "        testPred = predict(test_data, W, u, sigma, priors)\n",
        "        testError, testStdDev = errorAndStdDev(testPred,test_data_labels)\n",
        "\n",
        "        print(\"Fold= \", i, \"  Train error= \", trainError * 100, \"%  Train std dev= \", trainStdDev, \"  Test Error\", testError * 100, \"%   Test std dev= \", testStdDev)\n",
        "        globalError += trainError \n",
        "        globalStdDev += trainStdDev\n",
        "    \n",
        "    print(\"Avg Error = \", globalError / num_crossval * 100, \"%\")\n",
        "    print(\"Avg Standard Deviation = \", globalStdDev / num_crossval)\n",
        "\n",
        "dataset = chooseDataset(\"digits\")\n",
        "LDA2dGaussGM(dataset, 10)"
      ],
      "metadata": {
        "colab": {
          "base_uri": "https://localhost:8080/"
        },
        "id": "L-NLsxBcBj08",
        "outputId": "5fcce71b-c105-4e63-8b93-a74df81c4b09"
      },
      "execution_count": null,
      "outputs": [
        {
          "output_type": "stream",
          "name": "stdout",
          "text": [
            "Fold=  0   Train error=  49.534450651769085 %  Train std dev=  [3.0674529]   Test Error 53.63128491620112 %   Test std dev=  [3.05378684]\n",
            "Fold=  1   Train error=  59.40409683426443 %  Train std dev=  [2.86782429]   Test Error 67.0391061452514 %   Test std dev=  [2.8089061]\n",
            "Fold=  2   Train error=  63.00434512725015 %  Train std dev=  [2.70585035]   Test Error 63.128491620111724 %   Test std dev=  [2.71245016]\n",
            "Fold=  3   Train error=  52.6381129733085 %  Train std dev=  [2.98181592]   Test Error 45.81005586592179 %   Test std dev=  [2.94029941]\n",
            "Fold=  4   Train error=  51.21042830540037 %  Train std dev=  [2.85189139]   Test Error 50.27932960893855 %   Test std dev=  [2.81863369]\n",
            "Fold=  5   Train error=  35.071384233395406 %  Train std dev=  [2.93270766]   Test Error 39.10614525139665 %   Test std dev=  [2.93533822]\n",
            "Fold=  6   Train error=  65.67349472377406 %  Train std dev=  [2.85706829]   Test Error 68.71508379888269 %   Test std dev=  [2.86044976]\n",
            "Fold=  7   Train error=  71.13594040968343 %  Train std dev=  [2.92475068]   Test Error 72.06703910614524 %   Test std dev=  [2.84224706]\n",
            "Fold=  8   Train error=  40.53382991930478 %  Train std dev=  [2.81679145]   Test Error 40.22346368715084 %   Test std dev=  [2.87947507]\n",
            "Fold=  9   Train error=  50.65176908752328 %  Train std dev=  [2.76481445]   Test Error 54.7486033519553 %   Test std dev=  [2.76985697]\n",
            "Avg Error =  53.88578522656735 %\n",
            "Avg Standard Deviation =  [2.87709674]\n"
          ]
        }
      ]
    },
    {
      "cell_type": "markdown",
      "source": [
        "# LDA2dGaussianGM(New) 100% accuracy"
      ],
      "metadata": {
        "id": "pfTwRvgYJOY1"
      }
    },
    {
      "cell_type": "code",
      "source": [
        "from random import randrange\n",
        "from collections import defaultdict\n",
        "import matplotlib.pyplot as plt\n",
        "#split data into 10-folds\n",
        "def crossValSplit(dataset, folds = 10):\n",
        "    fold_size = int(len(dataset) / folds)\n",
        "    split_dataset = []\n",
        "    dataset_copy = dataset\n",
        "    for i in range(folds):\n",
        "        each_fold = []\n",
        "        while len(each_fold) < fold_size:\n",
        "            randSample = randrange(len(dataset_copy[0]))\n",
        "            each_fold.append(dataset_copy[randSample])\n",
        "            np.delete(dataset_copy,randSample)\n",
        "        split_dataset.append(each_fold)\n",
        "    \n",
        "    return split_dataset\n",
        "    \n",
        "def errorAndStdDev(y_hat, gndTruth):\n",
        "    counter = 0\n",
        "    temp = 0\n",
        "    gndTruthMean = sum(gndTruth) / len(gndTruth)\n",
        "    for i in range(len(y_hat)):\n",
        "        #print(y_hat[i], \"  \", gndTruth[i])\n",
        "        if y_hat[i] != gndTruth[i]:\n",
        "            counter += 1\n",
        "    \n",
        "    error = counter / len(y_hat)\n",
        "    \n",
        "    for i in range(len(gndTruth)):\n",
        "        temp +=  (y_hat[i] - gndTruthMean)**2\n",
        "    stdDev = np.sqrt(temp/len(gndTruth))\n",
        "    return error, stdDev\n",
        "\n",
        "\n",
        "#seperate samples into classes based on their labels\n",
        "def seperateData(data, labels):\n",
        "    data_dict = {0:[],              #use dictionary to store samples of different classes\n",
        "                1:[],\n",
        "                2:[],\n",
        "                3:[],\n",
        "                4:[],\n",
        "                5:[],\n",
        "                6:[],\n",
        "                7:[],\n",
        "                8:[],\n",
        "                9:[]}\n",
        "\n",
        "    for i in range(len(data)):\n",
        "        data_dict[labels[i]].append(data[i,:])\n",
        "    return data_dict\n",
        "\n",
        "def calcMeans(data_dict):\n",
        "    class_means = []                       #list of means of features for samples of each class\n",
        "    for value in data_dict.values():\n",
        "        mean = np.mean(value, axis = 0)\n",
        "        class_means.append(mean) \n",
        "    temp = sum(class_means)                              #find overall mean \n",
        "    overall_mean = (1/len(class_means)) * temp\n",
        "\n",
        "    return class_means, overall_mean\n",
        "\n",
        "\n",
        "#finds the between-class scatter and within-class scatter\n",
        "def calcCovariances(data_dict, class_means, overall_mean):\n",
        "    num_classes = len(class_means)\n",
        "    Si = []\n",
        "    counter1 = 0\n",
        "\n",
        "    for key, value in data_dict.items():\n",
        "        for i in range(len(value)):\n",
        "            diff = value[i] - class_means[key]\n",
        "            counter1 += np.matmul(np.transpose([diff]), [diff])\n",
        "        Si.append(counter1)\n",
        "\n",
        "    SW = sum(Si)                        #within class scatter\n",
        "\n",
        "    SB = 0                              #between class scatter\n",
        "    for i in range(num_classes):\n",
        "        diffMeans = class_means[i] - overall_mean\n",
        "        SB += len(data_dict[i]) * np.matmul(np.transpose([diffMeans]), [diffMeans])\n",
        "    \n",
        "    return SB, SW\n",
        "\n",
        "def oneHot(labels):\n",
        "    num_classes = len(set(labels))\n",
        "    onehot_labels = np.zeros((len(labels), num_classes))\n",
        "    #print(onehot_labels[1][2])\n",
        "    for i in range(len(labels)):          #encodes labels to 1-hot \n",
        "        #print(i, labels[i])\n",
        "        \n",
        "        onehot_labels[i][int(labels[i])-1] = 1\n",
        "\n",
        "    return onehot_labels\n",
        "\n",
        "# projects samples by multiplying W.T and each sample\n",
        "def projectData(W, data):\n",
        "    #print(np.shape(W))\n",
        "    #print(np.shape(data))\n",
        "    projectedData = []\n",
        "    for i in range(len(data)):\n",
        "        #projectedData.append(data[i] @ np.transpose(W))\n",
        "        projectedData.append(data[i] @ W)\n",
        "    return projectedData\n",
        "\n",
        "\n",
        "def findGaussParams(data_dict, labels, W):\n",
        "    means = []\n",
        "    covs = []\n",
        "    priors = []\n",
        "    total_cov = 0\n",
        "\n",
        "    #data_dict = seperateData(train_data, labels)\n",
        "    samples = len(labels)\n",
        "    for key, value in data_dict.items():\n",
        "        projection = projectData(W, value)\n",
        "        means.append(np.mean(projection, axis = 0))\n",
        "        cov = np.cov(projection, rowvar = False)      #2x2\n",
        "        #print(np.shape(cov), len(data_dict[key]), samples)\n",
        "        covs.append(cov)\n",
        "\n",
        "        prior = len(data_dict[key])/samples\n",
        "        total_cov += prior * cov\n",
        "        \n",
        "        priors.append(prior)\n",
        "        \n",
        "    return means,covs,priors, total_cov\n",
        "\n",
        "\n",
        "def softmaxnew(x):\n",
        "    # implement the softmax activation function for output layer\n",
        "    f_x = np.exp(x) / np.sum(np.exp(x), keepdims=True)\n",
        "    return f_x\n",
        "\n",
        "def softmax(vect):\n",
        "    e = np.exp(vect)\n",
        "    return e / e.sum()\n",
        "\n",
        "\n",
        "def plot(projdata, labels):\n",
        "    fig = plt.figure()\n",
        "    ax = fig.add_subplot(111)\n",
        "    \n",
        "    ax.scatter(projdata[:,0],projdata[:,1] , c=labels, lw=0)\n",
        "\n",
        "def train(train_data, labels, test_data):\n",
        "    num_classes = len(set(labels))\n",
        "    data_dict = seperateData(train_data, labels)\n",
        "    labels_onehot = oneHot(labels)\n",
        "\n",
        "    class_means, overall_mean = calcMeans(data_dict)\n",
        "    SB,SW = calcCovariances(data_dict, class_means, overall_mean)   \n",
        "    \n",
        "    eigVal, eigVect = np.linalg.eig(np.linalg.pinv(SW) @ SB)\n",
        "    eigPairs = [(abs(eigVal[i]), eigVect[:,i]) for i in range(len(eigVal))]\n",
        "    sortedEigPairs = sorted(eigPairs, key = lambda x: x[0], reverse = True)\n",
        "    #W = np.transpose(sortedEigPairs[0:2][1])\n",
        "    #print(np.shape(W))\n",
        "    largest = sortedEigPairs[0][1]\n",
        "    seclargest = sortedEigPairs[1][1]\n",
        "    #print(np.shape([largest]))\n",
        "    W = np.transpose(np.vstack((largest,seclargest)))\n",
        "    #print(np.shape(W))\n",
        "\n",
        "    proj = projectData(W, train_data)\n",
        "    proj = np.asarray(proj)\n",
        "    projplot = plot(proj, labels)\n",
        "    #u, sigma, priors = findGaussParams(train_data, labels, W)\n",
        "\n",
        "    proj_class_mean, proj_class_cov, priors, total_cov = findGaussParams(data_dict, labels, W)\n",
        "\n",
        "    return W, proj_class_mean, proj_class_cov, priors\n",
        "\n",
        "\n",
        "#this function isnt correct \n",
        "def predictOld(data, W, weights1, weights2, weights0):\n",
        "    y_hat = []\n",
        "    proj = projectData(W, data)     #each projected sample is a (1x2) vector\n",
        "\n",
        "    for sample in proj:\n",
        "        sample_pred = []\n",
        "        for i in range(len(weights1)):\n",
        "            \n",
        "            g = np.transpose([sample]) @ weights1[i] @ sample + np.transpose([weights2[i]]) @ sample + weights0[i]\n",
        "            sample_pred.append(g)\n",
        "\n",
        "        pred = softmax(sample_pred)\n",
        "        y_hat.append(np.argmax(pred))\n",
        "\n",
        "    return y_hat\n",
        "\n",
        "\n",
        "def predict(data, W, means, covs, priors):\n",
        "    y_hat = []\n",
        "    proj = projectData(W, data)  \n",
        "    proj = np.asarray(proj)\n",
        "    for sample in proj:\n",
        "        sample_pred = []\n",
        "        for i in range(len(means)):\n",
        "            invCov = np.linalg.inv(covs[i])\n",
        "            t1 = (-1/2) * invCov\n",
        "            t2 = invCov @ means[i]\n",
        "            t3 = (-1/2) * means[i] @ invCov @ np.transpose([means[i]]) - (1/2)*np.log(np.linalg.det(covs[i])) + np.log(priors[i])\n",
        "            g = (sample @ t1 @ np.transpose([sample])) + sample @ t2 + t3\n",
        "            sample_pred.append(g)\n",
        "        pred = softmax(sample_pred)\n",
        "        y_hat.append(np.argmax(pred))\n",
        "    \n",
        "    return y_hat\n",
        "\n",
        "def LDA2dGaussGM(filename, num_crossval):\n",
        "    split_data = crossValSplit(filename)\n",
        "    \n",
        "    globalError = 0\n",
        "    globalStdDev = 0\n",
        "\n",
        "    fold_error = []\n",
        "    fold_stddev = []\n",
        "    for i in range(len(split_data)):\n",
        "        test_data = np.copy(split_data[i])\n",
        "        test_labels = test_data[:,-1]\n",
        "        test_data = test_data[:,:-1]\n",
        "        \n",
        "        train_data_folds = np.delete(np.copy(split_data),i,0)\n",
        "        folds, samples, features = np.shape(train_data_folds)\n",
        "        train_data = np.reshape(train_data_folds, (folds * samples, features))\n",
        "        train_labels = train_data[:,-1]\n",
        "        train_data = train_data[:,:-1]\n",
        "\n",
        "        W, means, covs, priors = train(train_data, train_labels, test_data)\n",
        "        \n",
        "        trainPred = predict(train_data, train_labels, W, means, covs, priors)\n",
        "        trainError, trainStdDev = errorAndStdDev(trainPred, train_labels)\n",
        "        \n",
        "        testPred = predict(test_data, test_labels, W, means, covs, priors)\n",
        "        testError, testStdDev = errorAndStdDev(testPred, test_labels)\n",
        "\n",
        "        print(\"Fold= \", i, \"  Train error= \", trainError * 100, \"%  Train std dev= \", trainStdDev, \"  Test Error\", testError * 100, \"%   Test std dev= \", testStdDev)\n",
        "        globalError += trainError \n",
        "        globalStdDev += trainStdDev\n",
        "    \n",
        "    print(\"Avg Error = \", globalError / num_crossval * 100, \"%\")\n",
        "    print(\"Avg Standard Deviation = \", globalStdDev / num_crossval)\n",
        "\n",
        "dataset = chooseDataset(\"digits\")\n",
        "LDA2dGaussGM(dataset, 10)"
      ],
      "metadata": {
        "colab": {
          "base_uri": "https://localhost:8080/",
          "height": 1000
        },
        "id": "YlcH_MQmJUK3",
        "outputId": "d34f975a-cb59-4f57-b58f-c6cf807625a4"
      },
      "execution_count": 61,
      "outputs": [
        {
          "output_type": "stream",
          "name": "stderr",
          "text": [
            "/usr/local/lib/python3.7/dist-packages/matplotlib/collections.py:153: ComplexWarning: Casting complex values to real discards the imaginary part\n",
            "  offsets = np.asanyarray(offsets, float)\n"
          ]
        },
        {
          "output_type": "stream",
          "name": "stdout",
          "text": [
            "Fold=  0   Train error=  0.0 %  Train std dev=  2.836479497069629   Test Error 0.0 %   Test std dev=  2.7641609033897323\n",
            "Fold=  1   Train error=  0.0 %  Train std dev=  2.834805176272319   Test Error 0.0 %   Test std dev=  2.7443647201674395\n",
            "Fold=  2   Train error=  0.0 %  Train std dev=  2.829983773626766   Test Error 0.0 %   Test std dev=  2.816850410389596\n",
            "Fold=  3   Train error=  0.0 %  Train std dev=  2.82952680962332   Test Error 0.0 %   Test std dev=  2.8178363360349077\n",
            "Fold=  4   Train error=  0.0 %  Train std dev=  2.848234953965054   Test Error 0.0 %   Test std dev=  2.652825517183228\n",
            "Fold=  5   Train error=  0.0 %  Train std dev=  2.8246853484810117   Test Error 0.0 %   Test std dev=  2.8647072905540742\n",
            "Fold=  6   Train error=  0.0 %  Train std dev=  2.8304474703628633   Test Error 0.0 %   Test std dev=  2.8193533230181935\n",
            "Fold=  7   Train error=  0.0 %  Train std dev=  2.8172292851702787   Test Error 0.0 %   Test std dev=  2.9275555404683202\n",
            "Fold=  8   Train error=  0.0 %  Train std dev=  2.8272093998583516   Test Error 0.0 %   Test std dev=  2.8457642134171666\n",
            "Fold=  9   Train error=  0.0 %  Train std dev=  2.813866871614589   Test Error 0.0 %   Test std dev=  2.9634752108044173\n",
            "Avg Error =  0.0 %\n",
            "Avg Standard Deviation =  2.829246858604418\n"
          ]
        },
        {
          "output_type": "display_data",
          "data": {
            "image/png": "[encoded data removed]",
            "text/plain": [
              "<Figure size 432x288 with 1 Axes>"
            ]
          },
          "metadata": {
            "needs_background": "light"
          }
        },
        {
          "output_type": "display_data",
          "data": {
            "image/png": "[encoded data removed]",
            "text/plain": [
              "<Figure size 432x288 with 1 Axes>"
            ]
          },
          "metadata": {
            "needs_background": "light"
          }
        },
        {
          "output_type": "display_data",
          "data": {
            "image/png": "[encoded data removed]",
            "text/plain": [
              "<Figure size 432x288 with 1 Axes>"
            ]
          },
          "metadata": {
            "needs_background": "light"
          }
        },
        {
          "output_type": "display_data",
          "data": {
            "image/png": "[encoded data removed]",
            "text/plain": [
              "<Figure size 432x288 with 1 Axes>"
            ]
          },
          "metadata": {
            "needs_background": "light"
          }
        },
        {
          "output_type": "display_data",
          "data": {
            "image/png": "[encoded data removed]",
            "text/plain": [
              "<Figure size 432x288 with 1 Axes>"
            ]
          },
          "metadata": {
            "needs_background": "light"
          }
        },
        {
          "output_type": "display_data",
          "data": {
            "image/png": "[encoded data removed]",
            "text/plain": [
              "<Figure size 432x288 with 1 Axes>"
            ]
          },
          "metadata": {
            "needs_background": "light"
          }
        },
        {
          "output_type": "display_data",
          "data": {
            "image/png": "[encoded data removed]",
            "text/plain": [
              "<Figure size 432x288 with 1 Axes>"
            ]
          },
          "metadata": {
            "needs_background": "light"
          }
        },
        {
          "output_type": "display_data",
          "data": {
            "image/png": "[encoded data removed]",
            "text/plain": [
              "<Figure size 432x288 with 1 Axes>"
            ]
          },
          "metadata": {
            "needs_background": "light"
          }
        },
        {
          "output_type": "display_data",
          "data": {
            "image/png": "[encoded data removed]",
            "text/plain": [
              "<Figure size 432x288 with 1 Axes>"
            ]
          },
          "metadata": {
            "needs_background": "light"
          }
        },
        {
          "output_type": "display_data",
          "data": {
            "image/png": "[encoded data removed]",
            "text/plain": [
              "<Figure size 432x288 with 1 Axes>"
            ]
          },
          "metadata": {
            "needs_background": "light"
          }
        }
      ]
    },
    {
      "cell_type": "markdown",
      "source": [
        "# logisticRegression "
      ],
      "metadata": {
        "id": "pewIo2Y1lzvf"
      }
    },
    {
      "cell_type": "code",
      "source": [
        "import random\n",
        "from random import randrange\n",
        "from collections import defaultdict\n",
        "\n",
        "#split data into 10-folds\n",
        "def crossValSplit(dataset, folds = 10):\n",
        "    fold_size = int(len(dataset) / folds)\n",
        "    split_dataset = []\n",
        "    dataset_copy = dataset\n",
        "    for i in range(folds):\n",
        "        each_fold = []\n",
        "        while len(each_fold) < fold_size:\n",
        "            #print(\"here\")\n",
        "            randSample = randrange(len(dataset_copy[0]))\n",
        "            each_fold.append(dataset_copy[randSample])\n",
        "            np.delete(dataset_copy,randSample)\n",
        "        split_dataset.append(each_fold)\n",
        "    \n",
        "    return split_dataset \n",
        "\n",
        "def errorAndStdDev(y_hat, gndTruth):\n",
        "    counter = 0\n",
        "    temp = 0\n",
        "    gndTruthMean = sum(gndTruth) / len(gndTruth)\n",
        "    #print(\"yhat len\",len(y_hat))\n",
        "    #print(\"gnd len\",len(gndTruth))\n",
        "    for i in range(len(y_hat)):\n",
        "        if y_hat[i] != gndTruth[i]:\n",
        "            counter += 1\n",
        "    \n",
        "    error = counter / len(y_hat)\n",
        "    \n",
        "    for i in range(len(gndTruth)):\n",
        "        temp +=  (y_hat[i] - gndTruthMean)**2\n",
        "    stdDev = np.sqrt(temp/len(gndTruth))\n",
        "    return error, stdDev\n",
        "\n",
        "def oneHot(labels):\n",
        "    num_classes = len(set(labels))\n",
        "    onehot_labels = np.zeros((len(labels),num_classes))\n",
        "\n",
        "    for i in range(len(labels)):          #encodes labels to 1-hot \n",
        "        onehot_labels[i][labels[i]] = 1\n",
        "\n",
        "    return onehot_labels\n",
        "\n",
        "#seperate samples into classes based on their labels\n",
        "def seperateData(data, labels):\n",
        "\n",
        "    data_combined = [(labels[i], data[i]) for i in range(len(labels))]\n",
        "    data_dict = defaultdict(list)\n",
        "\n",
        "    for key, val in data_combined:        #seperates data based on class\n",
        "        data_dict[key].append(val)\n",
        "\n",
        "    return data_dict\n",
        "\n",
        "\n",
        "def sigmoid(z):\n",
        "    ans = 1/(1 + np.exp(-z)) \n",
        "    return ans\n",
        "\n",
        "\n",
        "def loss(train_labels,y_hat):\n",
        "    loss = 0\n",
        "    cost_y0 = (1 - train_labels) * np.log(1 - y_hat)\n",
        "    cost_y1 = -1 * train_labels * np.log(y_hat)\n",
        "\n",
        "    #J = (1.0/m) * np.sum(cost_y_0 - cost_y_1) + (reg_lambda/(2.0 * m)) * np.sum(np.power(theta[1:], 2))\n",
        "    loss = (1/len(y_hat)) * np.sum(cost_y0-cost_y1)\n",
        "\n",
        "    return loss\n",
        "\n",
        "def classifyBinary(data, W):\n",
        "    final_pred = np.zeros(len(data))\n",
        "    #print(\"data\", np.shape(data))\n",
        "    #print(\"w\", np.shape(W))\n",
        "    pred = data @ W\n",
        "\n",
        "    for i in range(len(pred)):\n",
        "        if pred[i] >= 0.5:\n",
        "            final_pred[i] = 1\n",
        "\n",
        "    return final_pred\n",
        "\n",
        "def trainBinaryLogReg(train_data, train_labels):\n",
        "    #print(\"train labels\", np.shape([train_labels]))\n",
        "    num_features = np.shape(train_data)[1]\n",
        "    num_samples = len(train_data)\n",
        "    W = np.random.normal(0, 1, size=(num_features,1))\n",
        "    lr = 1\n",
        "    iters = 1000\n",
        "\n",
        "    error_history = []\n",
        "    for i in range(iters):\n",
        "        \n",
        "        #print(np.shape(W))\n",
        "        z =  train_data @ W\n",
        "        y_hat = sigmoid(z)\n",
        "\n",
        "        #print(\"train data transpo\", np.shape(np.transpose(train_data)))\n",
        "        #print(\"W shape\", np.shape(W ))\n",
        "        #print('y_hat', np.shape(y_hat))\n",
        "        #print(\"labels\", np.shape(np.transpose([train_labels])))\n",
        "        gradient = lr * (1/num_samples) * (np.transpose(train_data) @ (y_hat - np.transpose([train_labels])))\n",
        "        W -= gradient\n",
        "        error = loss(train_labels, y_hat)\n",
        "        error_history.append(error)\n",
        "    \n",
        "    return W, error_history\n",
        "\n",
        "\n",
        "def trainMulticlassLogReg(train_data, train_labels):\n",
        "    pass\n",
        "\n",
        "def trainTestSplit(data):\n",
        "    random.shuffle(data)\n",
        "    train_size = int(0.8 * len(data))\n",
        "    train_split = np.asarray(data[:train_size])\n",
        "    test_split = np.asarray(data[train_size:])\n",
        "\n",
        "    return train_split, test_split\n",
        "\n",
        "def trainPercent(train_split, percent):\n",
        "    #print(percent * len(train_split))\n",
        "    #print(percent)\n",
        "    random.shuffle(train_split)\n",
        "    if percent != 100:\n",
        "        train_size = int(percent * len(train_split))\n",
        "    else:\n",
        "        return train_split\n",
        "    \n",
        "    train_data = train_split[:train_size]\n",
        "\n",
        "    return train_data\n",
        "\n",
        "def logisticRegression(filename, dataset, num_splits, percent):\n",
        "    split_data = crossValSplit(dataset)\n",
        "    \n",
        "    globalError = 0\n",
        "    globalStdDev = 0\n",
        "\n",
        "    fold_error = []\n",
        "    fold_stddev = []\n",
        "    for i in range(len(split_data)):\n",
        "        for j in percent:\n",
        "            #print(\"j=\", j)\n",
        "            #print(j+1)\n",
        "            num_samples = len(split_data[i])\n",
        "\n",
        "            train_split, test_split = trainTestSplit(split_data[i])\n",
        "            test_labels = test_split[:,-1]\n",
        "            test_data = test_split[:,:-1]\n",
        "            #print(np.shape(train_split))\n",
        "            train_percent = trainPercent(train_split, j)\n",
        "            train_labels = train_percent[:,-1]\n",
        "            train_data = train_percent[:,:-1]\n",
        "\n",
        "            ########## \n",
        "            \n",
        "            if filename == \"Boston50\" or filename == \"Boston75\":\n",
        "                W, cost_history = trainBinaryLogReg(train_data, train_labels)\n",
        "                #print(\"reaches here\")\n",
        "                trainPred = classifyBinary(train_data, W)\n",
        "                trainError, trainStdDev = errorAndStdDev(trainPred, train_labels)\n",
        "                #print(trainError)\n",
        "                testPred = classifyBinary(test_data,W)\n",
        "                testError, testStdDev = errorAndStdDev(testPred, test_labels)\n",
        "                \n",
        "                print(\"percent=\", j,\"train error=\", trainError,\"  test error=\", testError)\n",
        "            #trainPred = predict(train_data,W,u,sigma,priors)\n",
        "            #trainError, trainStdDev = errorAndStdDev(trainPred, train_data_labels)\n",
        "            \n",
        "\n",
        "percent = [10,25,50,75,100]\n",
        "#datasetNames = [\"Boston50\", \"Boston75\", \"digits\"]\n",
        "datasetNames = [\"Boston50\"]\n",
        "for i in datasetNames:\n",
        "    dataset = chooseDataset(\"Boston50\")\n",
        "    logisticRegression(i, dataset, 10, percent)"
      ],
      "metadata": {
        "id": "NmK3ecGX8hff",
        "colab": {
          "base_uri": "https://localhost:8080/"
        },
        "outputId": "ff98f517-7e67-44bc-c75b-d8c1516903aa"
      },
      "execution_count": 91,
      "outputs": [
        {
          "output_type": "stream",
          "name": "stderr",
          "text": [
            "/usr/local/lib/python3.7/dist-packages/ipykernel_launcher.py:66: RuntimeWarning: divide by zero encountered in log\n",
            "/usr/local/lib/python3.7/dist-packages/ipykernel_launcher.py:66: RuntimeWarning: invalid value encountered in multiply\n",
            "/usr/local/lib/python3.7/dist-packages/ipykernel_launcher.py:60: RuntimeWarning: overflow encountered in exp\n",
            "/usr/local/lib/python3.7/dist-packages/ipykernel_launcher.py:67: RuntimeWarning: divide by zero encountered in log\n",
            "/usr/local/lib/python3.7/dist-packages/ipykernel_launcher.py:67: RuntimeWarning: invalid value encountered in multiply\n"
          ]
        },
        {
          "output_type": "stream",
          "name": "stdout",
          "text": [
            "train error= 0.1   test error= 0.2\n",
            "train error= 0.2   test error= 0.4\n",
            "train error= 0.4   test error= 0.2\n",
            "train error= 0.3   test error= 0.3\n",
            "train error= 0.25   test error= 0.2\n",
            "train error= 0.125   test error= 0.0\n",
            "train error= 0.1   test error= 0.2\n",
            "train error= 0.45   test error= 0.4\n",
            "train error= 0.4   test error= 0.3\n",
            "train error= 0.125   test error= 0.2\n",
            "train error= 0.2   test error= 0.3\n",
            "train error= 0.15   test error= 0.2\n",
            "train error= 0.2   test error= 0.0\n",
            "train error= 0.1   test error= 0.3\n",
            "train error= 0.075   test error= 0.3\n",
            "train error= 0.0   test error= 0.1\n",
            "train error= 0.05   test error= 0.1\n",
            "train error= 0.175   test error= 0.3\n",
            "train error= 0.15   test error= 0.2\n",
            "train error= 0.125   test error= 0.0\n",
            "train error= 0.075   test error= 0.1\n",
            "train error= 0.15   test error= 0.2\n",
            "train error= 0.0   test error= 0.4\n",
            "train error= 0.0   test error= 0.1\n",
            "train error= 0.0   test error= 0.1\n",
            "train error= 0.0   test error= 0.3\n",
            "train error= 0.0   test error= 0.1\n",
            "train error= 0.1   test error= 0.0\n",
            "train error= 0.0   test error= 0.0\n",
            "train error= 0.2   test error= 0.2\n",
            "train error= 0.3   test error= 0.5\n",
            "train error= 0.275   test error= 0.4\n",
            "train error= 0.15   test error= 0.1\n",
            "train error= 0.475   test error= 0.3\n",
            "train error= 0.375   test error= 0.5\n",
            "train error= 0.2   test error= 0.2\n",
            "train error= 0.175   test error= 0.2\n",
            "train error= 0.15   test error= 0.1\n",
            "train error= 0.075   test error= 0.2\n",
            "train error= 0.075   test error= 0.1\n",
            "train error= 0.325   test error= 0.0\n",
            "train error= 0.0   test error= 0.0\n",
            "train error= 0.0   test error= 0.3\n",
            "train error= 0.075   test error= 0.0\n",
            "train error= 0.025   test error= 0.1\n",
            "train error= 0.05   test error= 0.3\n",
            "train error= 0.2   test error= 0.2\n",
            "train error= 0.025   test error= 0.4\n",
            "train error= 0.05   test error= 0.1\n",
            "train error= 0.525   test error= 0.4\n"
          ]
        }
      ]
    }
  ]
}